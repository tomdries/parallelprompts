{
 "cells": [
  {
   "cell_type": "code",
   "execution_count": null,
   "metadata": {},
   "outputs": [],
   "source": [
    "import openai\n",
    "from dotenv import load_dotenv\n",
    "import os\n",
    "import requests\n",
    "import subprocess\n",
    "import json\n",
    "import asyncio\n",
    "from api_request_parallel_processor import process_api_requests_from_file\n",
    "\n",
    "\n",
    "load_dotenv()\n",
    "openai.api_key = os.getenv(\"OPENAI_API_KEY\")"
   ]
  },
  {
   "cell_type": "code",
   "execution_count": 4,
   "metadata": {},
   "outputs": [],
   "source": [
    "temperature = 0.7\n",
    "prompt_stem = \"Hi, what is the capital of \"\n",
    "ten_countries = ['France', 'Germany', 'Italy', 'Spain', 'United Kingdom', 'United States', 'Canada', 'Mexico', 'Brazil', 'Argentina']\n",
    "prompts = [prompt_stem + country + '?' for country in ten_countries]\n",
    "data_list = []\n",
    "for p in prompts:\n",
    "    data = {\"model\": \"gpt-4-0613\", \"messages\": [{\"role\": \"user\", \"content\": p}],\"temperature\": temperature}\n",
    "    data_list.append(data)\n",
    "\n",
    "# create jsonl file \n",
    "with open('data.jsonl', 'w') as outfile:\n",
    "    for entry in data_list:\n",
    "        json.dump(entry, outfile)\n",
    "        outfile.write('\\n')\n",
    "\n"
   ]
  },
  {
   "cell_type": "code",
   "execution_count": 29,
   "metadata": {},
   "outputs": [
    {
     "data": {
      "text/plain": [
       "CompletedProcess(args=['python', 'api_request_parallel_processor.py', '--requests_filepath', 'data.jsonl', '--save_filepath', 'data_responses.jsonl', '--request_url', 'https://api.openai.com/v1/chat/completions', '--max_requests_per_minute', '200', '--max_tokens_per_minute', '4000', '--token_encoding_name', 'cl100k_base', '--max_attempts', '5', '--logging_level', '10'], returncode=0)"
      ]
     },
     "execution_count": 29,
     "metadata": {},
     "output_type": "execute_result"
    }
   ],
   "source": [
    "import subprocess\n",
    "\n",
    "# Define the command to call the script\n",
    "command = [\n",
    "    \"python\", \"api_request_parallel_processor.py\",\n",
    "    \"--requests_filepath\", \"data.jsonl\",\n",
    "    \"--save_filepath\", \"data_responses.jsonl\",\n",
    "    \"--request_url\", \"https://api.openai.com/v1/chat/completions\",\n",
    "    \"--max_requests_per_minute\", \"200\",\n",
    "    \"--max_tokens_per_minute\", \"4000\",\n",
    "    \"--token_encoding_name\", \"cl100k_base\",\n",
    "    \"--max_attempts\", \"5\",\n",
    "    \"--logging_level\", \"10\"\n",
    "]\n",
    "\n",
    "# Launch the Windows shell command\n",
    "subprocess.run(command, shell=True)"
   ]
  },
  {
   "cell_type": "code",
   "execution_count": 5,
   "metadata": {},
   "outputs": [
    {
     "name": "stdout",
     "output_type": "stream",
     "text": [
      "\n"
     ]
    }
   ],
   "source": [
    "import subprocess\n",
    "\n",
    "# Define the command to call the script\n",
    "command = [\n",
    "    \"python\", \"api_request_parallel_processor.py\",\n",
    "    \"--requests_filepath\", \"data.jsonl\",\n",
    "    \"--save_filepath\", \"data_responses.jsonl\",\n",
    "    \"--request_url\", \"https://api.openai.com/v1/chat/completions\",\n",
    "    \"--max_requests_per_minute\", \"200\",\n",
    "    \"--max_tokens_per_minute\", \"4000\",\n",
    "    \"--token_encoding_name\", \"cl100k_base\",\n",
    "    \"--max_attempts\", \"5\",\n",
    "    \"--logging_level\", \"10\"\n",
    "]\n",
    "\n",
    "# Launch the Windows shell command and get the output\n",
    "output = subprocess.check_output(command, shell=True)\n",
    "\n",
    "# Decode the bytes to string and print the output\n",
    "print(output.decode(\"utf-8\"))"
   ]
  },
  {
   "cell_type": "code",
   "execution_count": 7,
   "metadata": {},
   "outputs": [
    {
     "name": "stdout",
     "output_type": "stream",
     "text": [
      "\n"
     ]
    }
   ],
   "source": [
    "import os\n",
    "import json\n",
    "import subprocess\n",
    "\n",
    "def parallel_gpt4_request(messages, model, temperature, api_key, max_requests_per_minute = 200, max_tokens_per_minute = 4000, max_attempts = 5, logging_level = 10):\n",
    "    \"\"\"\n",
    "    Make requests in system_message, user_message pairs. \n",
    "    format messages as a list of tuples, [(system_message_1, user_message_1), (system_message_2, user_message_2), ...]\n",
    "    if system message is None, then it is a user message only\n",
    "    \"\"\"\n",
    "    # remove 00temp.jsonl if it exists\n",
    "    if os.path.exists('00temp.jsonl'):\n",
    "        os.remove('00temp.jsonl')\n",
    "    if os.path.exists('00temp_responses.jsonl'):\n",
    "        os.remove('00temp_responses.jsonl')\n",
    "\n",
    "    # create jsonl file \n",
    "    with open('00temp.jsonl', 'w') as outfile:\n",
    "        for entry in messages:\n",
    "            if entry[0] is None:\n",
    "                data = {\"model\": model, \"messages\": [{\"role\": \"user\", \"content\": entry[1]}],\"temperature\": temperature}\n",
    "            else:\n",
    "                data = {\"model\": model, \"messages\": [{\"role\": \"system\", \"content\": entry[0]}, {\"role\": \"user\", \"content\": entry[1]}],\"temperature\": temperature}\n",
    "            json.dump(data, outfile)\n",
    "            outfile.write('\\n')\n",
    "\n",
    "    # Define the command to call the script\n",
    "    command = [\n",
    "        \"python\", \"api_request_parallel_processor.py\",\n",
    "        \"--requests_filepath\", \"00temp.jsonl\",\n",
    "        \"--save_filepath\", \"00temp_responses.jsonl\",\n",
    "        \"--request_url\", \"https://api.openai.com/v1/chat/completions\",\n",
    "        \"--api_key\", api_key,\n",
    "        \"--max_requests_per_minute\", str(max_requests_per_minute),\n",
    "        \"--max_tokens_per_minute\", str(max_tokens_per_minute),\n",
    "        \"--token_encoding_name\", \"cl100k_base\",\n",
    "        \"--max_attempts\", str(max_attempts),\n",
    "        \"--logging_level\", str(logging_level)\n",
    "    ]\n",
    "\n",
    "    # Launch the Windows shell command and get the output\n",
    "    output = subprocess.check_output(command, shell=True)\n",
    "\n",
    "    # Decode the bytes to string and print the output\n",
    "    print(output.decode(\"utf-8\"))\n",
    "\n",
    "    # read in responses\n",
    "    with open('00temp_responses.jsonl', 'r') as f:\n",
    "        responses = [json.loads(line) for line in f]\n",
    "    request_messages_dict  = [response[0]['messages'] for response in responses]\n",
    "    response_messages = [response[1]['choices'][0]['message']['content'] for response in responses]\n",
    "\n",
    "    request_messages = []\n",
    "    for rm in request_messages_dict:\n",
    "        if len(rm) == 1: #contains only user message\n",
    "            request_messages.append((None, rm[0]['content']))\n",
    "        elif len(rm) == 2: #contains system and user message\n",
    "            request_messages.append((rm[0]['content'], rm[1]['content']))\n",
    "        else:\n",
    "            raise Exception('Request message has no body')\n",
    "    \n",
    "\n",
    "    # remove 00temp.jsonl if it exists\n",
    "    # if os.path.exists('00temp.jsonl'):\n",
    "        # os.remove('00temp.jsonl')\n",
    "    if os.path.exists('00temp_responses.jsonl'):\n",
    "        os.remove('00temp_responses.jsonl')\n",
    "    \n",
    "    return request_messages, response_messages\n",
    "\n",
    "prompts = [(None, \"What is the capital of France?\"), (\"You are Donald Trump\", \"Who is the best president\")]\n",
    "\n",
    "request_messages, response_messages = parallel_gpt4_request(prompts, \"gpt-4-0613\", 0, os.getenv(\"OPENAI_API_KEY\"), max_requests_per_minute = 200, max_tokens_per_minute = 4000, max_attempts = 5, logging_level = 10)\n"
   ]
  },
  {
   "cell_type": "code",
   "execution_count": 6,
   "metadata": {},
   "outputs": [
    {
     "data": {
      "text/plain": [
       "['The capital of France is Paris.',\n",
       " 'As Donald Trump, I would say that I am the best president. I believe I have done a great job in leading the country, creating jobs, and making America great again.']"
      ]
     },
     "execution_count": 6,
     "metadata": {},
     "output_type": "execute_result"
    }
   ],
   "source": [
    "response_messages"
   ]
  },
  {
   "cell_type": "code",
   "execution_count": 56,
   "metadata": {},
   "outputs": [
    {
     "data": {
      "text/plain": [
       "[(None, 'What is the capital of France?'),\n",
       " ('You are Donald Trump', 'Who is the best president')]"
      ]
     },
     "execution_count": 56,
     "metadata": {},
     "output_type": "execute_result"
    }
   ],
   "source": [
    "request_messages\n",
    "response_messages"
   ]
  },
  {
   "cell_type": "code",
   "execution_count": 57,
   "metadata": {},
   "outputs": [
    {
     "data": {
      "text/plain": [
       "['The capital of France is Paris.',\n",
       " 'Many people have different opinions on who the best president is. However, as Donald Trump, I would say that I am the best president.']"
      ]
     },
     "execution_count": 57,
     "metadata": {},
     "output_type": "execute_result"
    }
   ],
   "source": [
    "response_messages"
   ]
  },
  {
   "cell_type": "code",
   "execution_count": null,
   "metadata": {},
   "outputs": [],
   "source": []
  },
  {
   "cell_type": "code",
   "execution_count": 53,
   "metadata": {},
   "outputs": [
    {
     "data": {
      "text/plain": [
       "[[{'role': 'user', 'content': 'What is the capital of France?'}],\n",
       " [{'role': 'system', 'content': 'You are Donald Trump'},\n",
       "  {'role': 'user', 'content': 'Who is the best president'}]]"
      ]
     },
     "execution_count": 53,
     "metadata": {},
     "output_type": "execute_result"
    }
   ],
   "source": []
  },
  {
   "cell_type": "code",
   "execution_count": null,
   "metadata": {},
   "outputs": [],
   "source": []
  },
  {
   "cell_type": "code",
   "execution_count": 51,
   "metadata": {},
   "outputs": [
    {
     "data": {
      "text/plain": [
       "[[{'role': 'user', 'content': 'Hi, what is the capital of Italy?'}],\n",
       " [{'role': 'user', 'content': 'Hi, what is the capital of France?'}],\n",
       " [{'role': 'user', 'content': 'Hi, what is the capital of Mexico?'}],\n",
       " [{'role': 'user', 'content': 'Hi, what is the capital of United Kingdom?'}],\n",
       " [{'role': 'user', 'content': 'Hi, what is the capital of Brazil?'}],\n",
       " [{'role': 'user', 'content': 'Hi, what is the capital of Spain?'}],\n",
       " [{'role': 'user', 'content': 'Hi, what is the capital of Argentina?'}],\n",
       " [{'role': 'user', 'content': 'Hi, what is the capital of Germany?'}],\n",
       " [{'role': 'user', 'content': 'Hi, what is the capital of Canada?'}],\n",
       " [{'role': 'user', 'content': 'Hi, what is the capital of United States?'}],\n",
       " [{'role': 'user', 'content': 'Hi, what is the capital of Argentina?'}],\n",
       " [{'role': 'user', 'content': 'Hi, what is the capital of Brazil?'}],\n",
       " [{'role': 'user', 'content': 'Hi, what is the capital of France?'}],\n",
       " [{'role': 'user', 'content': 'Hi, what is the capital of Mexico?'}],\n",
       " [{'role': 'user', 'content': 'Hi, what is the capital of Italy?'}],\n",
       " [{'role': 'user', 'content': 'Hi, what is the capital of Canada?'}],\n",
       " [{'role': 'user', 'content': 'Hi, what is the capital of United Kingdom?'}],\n",
       " [{'role': 'user', 'content': 'Hi, what is the capital of United States?'}],\n",
       " [{'role': 'user', 'content': 'Hi, what is the capital of Germany?'}],\n",
       " [{'role': 'user', 'content': 'Hi, what is the capital of Spain?'}]]"
      ]
     },
     "execution_count": 51,
     "metadata": {},
     "output_type": "execute_result"
    }
   ],
   "source": [
    "request_messages"
   ]
  },
  {
   "cell_type": "code",
   "execution_count": null,
   "metadata": {},
   "outputs": [],
   "source": []
  },
  {
   "cell_type": "code",
   "execution_count": 49,
   "metadata": {},
   "outputs": [
    {
     "data": {
      "text/plain": [
       "['The capital of Italy is Rome.',\n",
       " 'The capital of France is Paris.',\n",
       " 'The capital of Mexico is Mexico City.',\n",
       " 'The capital of the United Kingdom is London.',\n",
       " 'The capital of Brazil is Brasília.',\n",
       " 'The capital of Spain is Madrid.',\n",
       " 'The capital of Argentina is Buenos Aires.',\n",
       " 'The capital of Germany is Berlin.',\n",
       " 'The capital of Canada is Ottawa.',\n",
       " 'The capital of the United States is Washington, D.C.',\n",
       " 'The capital of Argentina is Buenos Aires.',\n",
       " 'The capital of Brazil is Brasília.',\n",
       " 'The capital of France is Paris.',\n",
       " 'The capital of Mexico is Mexico City.',\n",
       " 'The capital of Italy is Rome.',\n",
       " 'The capital of Canada is Ottawa.',\n",
       " 'The capital of the United Kingdom is London.',\n",
       " 'The capital of the United States is Washington, D.C.',\n",
       " 'The capital of Germany is Berlin.',\n",
       " 'The capital of Spain is Madrid.']"
      ]
     },
     "execution_count": 49,
     "metadata": {},
     "output_type": "execute_result"
    }
   ],
   "source": [
    "request_messages\n",
    "response_messages"
   ]
  },
  {
   "cell_type": "code",
   "execution_count": null,
   "metadata": {},
   "outputs": [],
   "source": []
  },
  {
   "cell_type": "code",
   "execution_count": null,
   "metadata": {},
   "outputs": [],
   "source": []
  },
  {
   "cell_type": "code",
   "execution_count": null,
   "metadata": {},
   "outputs": [
    {
     "ename": "ValueError",
     "evalue": "not enough values to unpack (expected 3, got 2)",
     "output_type": "error",
     "traceback": [
      "\u001b[1;31m---------------------------------------------------------------------------\u001b[0m",
      "\u001b[1;31mValueError\u001b[0m                                Traceback (most recent call last)",
      "Cell \u001b[1;32mIn[45], line 29\u001b[0m\n\u001b[0;32m     27\u001b[0m     response_messages \u001b[39m=\u001b[39m [response[\u001b[39m1\u001b[39m][\u001b[39m'\u001b[39m\u001b[39mchoices\u001b[39m\u001b[39m'\u001b[39m][\u001b[39m0\u001b[39m][\u001b[39m'\u001b[39m\u001b[39mmessage\u001b[39m\u001b[39m'\u001b[39m][\u001b[39m'\u001b[39m\u001b[39mcontent\u001b[39m\u001b[39m'\u001b[39m] \u001b[39mfor\u001b[39;00m response \u001b[39min\u001b[39;00m responses]\n\u001b[0;32m     28\u001b[0m     \u001b[39mreturn\u001b[39;00m responses, response_messages \n\u001b[1;32m---> 29\u001b[0m responses, request_messages, response_messages \u001b[39m=\u001b[39m parallel_gpt4_request(\u001b[39m\"\u001b[39m\u001b[39mdata.jsonl\u001b[39m\u001b[39m\"\u001b[39m, \u001b[39m\"\u001b[39m\u001b[39mout.jsonl\u001b[39m\u001b[39m\"\u001b[39m, \u001b[39m200\u001b[39m, \u001b[39m4000\u001b[39m, \u001b[39m5\u001b[39m, \u001b[39m10\u001b[39m)\n",
      "\u001b[1;31mValueError\u001b[0m: not enough values to unpack (expected 3, got 2)"
     ]
    }
   ],
   "source": [
    "def parallel_gpt4_request_from_file(requests_filepath, save_filepath, max_requests_per_minute = 200, max_tokens_per_minute = 4000, max_attempts = 5, logging_level = 10):\n",
    "    # remove save_filepath if exists\n",
    "    if os.path.exists(save_filepath):\n",
    "        os.remove(save_filepath)\n",
    "    \n",
    "    # Define the command to call the script\n",
    "    command = [\n",
    "        \"python\", \"api_request_parallel_processor.py\",\n",
    "        \"--requests_filepath\", requests_filepath,\n",
    "        \"--save_filepath\", save_filepath,\n",
    "        \"--request_url\", \"https://api.openai.com/v1/chat/completions\",\n",
    "        \"--max_requests_per_minute\", str(max_requests_per_minute),\n",
    "        \"--max_tokens_per_minute\", str(max_tokens_per_minute),\n",
    "        \"--token_encoding_name\", \"cl100k_base\",\n",
    "        \"--max_attempts\", str(max_attempts),\n",
    "        \"--logging_level\", str(logging_level)\n",
    "    ]\n",
    "\n",
    "    # Launch the Windows shell command and get the output\n",
    "    subprocess.run(command, shell=True)\n",
    "\n",
    "    # read jsonl out and parse as list of dicts, overwrite if exists\n",
    "    with open(save_filepath) as f:\n",
    "        lines = f.readlines()\n",
    "    responses = [json.loads(line) for line in lines]\n",
    "    request_messages  = [response[0]['messages'] for response in responses]\n",
    "    response_messages = [response[1]['choices'][0]['message']['content'] for response in responses]\n",
    "    return responses, request_messages, response_messages \n",
    "\n",
    "responses, request_messages, response_messages = parallel_gpt4_request_from_file(\"data.jsonl\", \"out.jsonl\", 200, 4000, 5, 10)"
   ]
  },
  {
   "cell_type": "code",
   "execution_count": null,
   "metadata": {},
   "outputs": [],
   "source": []
  },
  {
   "cell_type": "code",
   "execution_count": null,
   "metadata": {},
   "outputs": [],
   "source": []
  },
  {
   "cell_type": "code",
   "execution_count": null,
   "metadata": {},
   "outputs": [],
   "source": []
  },
  {
   "cell_type": "code",
   "execution_count": 43,
   "metadata": {},
   "outputs": [
    {
     "data": {
      "text/plain": [
       "'['"
      ]
     },
     "execution_count": 43,
     "metadata": {},
     "output_type": "execute_result"
    }
   ],
   "source": []
  },
  {
   "cell_type": "code",
   "execution_count": null,
   "metadata": {},
   "outputs": [],
   "source": []
  },
  {
   "cell_type": "code",
   "execution_count": null,
   "metadata": {},
   "outputs": [],
   "source": []
  },
  {
   "cell_type": "code",
   "execution_count": null,
   "metadata": {},
   "outputs": [],
   "source": []
  },
  {
   "cell_type": "code",
   "execution_count": null,
   "metadata": {},
   "outputs": [],
   "source": []
  },
  {
   "cell_type": "code",
   "execution_count": null,
   "metadata": {},
   "outputs": [],
   "source": []
  },
  {
   "cell_type": "code",
   "execution_count": null,
   "metadata": {},
   "outputs": [],
   "source": []
  },
  {
   "cell_type": "code",
   "execution_count": null,
   "metadata": {},
   "outputs": [],
   "source": []
  },
  {
   "cell_type": "code",
   "execution_count": null,
   "metadata": {},
   "outputs": [],
   "source": []
  },
  {
   "cell_type": "code",
   "execution_count": null,
   "metadata": {},
   "outputs": [],
   "source": []
  },
  {
   "cell_type": "code",
   "execution_count": null,
   "metadata": {},
   "outputs": [],
   "source": []
  },
  {
   "cell_type": "code",
   "execution_count": null,
   "metadata": {},
   "outputs": [],
   "source": []
  },
  {
   "cell_type": "code",
   "execution_count": null,
   "metadata": {},
   "outputs": [],
   "source": []
  },
  {
   "cell_type": "code",
   "execution_count": null,
   "metadata": {},
   "outputs": [
    {
     "name": "stdout",
     "output_type": "stream",
     "text": [
      "'http://www.youtube.com/watch?v=qsXHcwe3krw|||http://41.media.tumblr.c\n",
      "om/tumblr_lfouy03PMA1qa1rooo1_500.jpg|||enfp and intj moments\n",
      "https://www.youtube.com/watch?v=iz7lE1g4XM4  sportscenter not top ten\n",
      "plays  https://www.youtube.com/watch?v=uCdfze1etec  pranks|||What has\n",
      "been the most life-changing experience in your\n",
      "life?|||http://www.youtube.com/watch?v=vXZeYwwRDw8\n",
      "http://www.youtube.com/watch?v=u8ejam5DP3E  On repeat for most of\n",
      "today.|||May the PerC Experience immerse you.|||The last thing my INFJ\n",
      "friend posted on his facebook before committing suicide the next day.\n",
      "Rest in peace~   http://vimeo.com/22842206|||Hello ENFJ7. Sorry to\n",
      "hear of your distress. It's only natural for a relationship to not be\n",
      "perfection all the time in every moment of existence. Try to figure\n",
      "the hard times as times of growth, as...|||84389  84390\n",
      "http://wallpaperpassion.com/upload/23700/friendship-boy-and-girl-\n",
      "wallpaper.jpg  http://assets.dornob.com/wp-\n",
      "content/uploads/2010/04/round-home-design.jpg ...|||Welcome and\n",
      "stuff.|||http://playeressence.com/wp-content/uploads/2013/08/RED-red-\n",
      "the-pokemon-master-32560474-450-338.jpg  Game. Set. Match.|||Prozac,\n",
      "wellbrutin, at least thirty minutes of moving your legs (and I don't\n",
      "mean moving them while sitting in your same desk chair), weed in\n",
      "moderation (maybe try edibles as a healthier\n",
      "alternative...|||Basically come up with three items you've determined\n",
      "that each type (or whichever types you want to do) would more than\n",
      "likely use, given each types' cognitive functions and whatnot, when\n",
      "left by...|||All things in moderation.  Sims is indeed a video game,\n",
      "and a good one at that. Note: a good one at that is somewhat\n",
      "subjective in that I am not completely promoting the death of any\n",
      "given Sim...|||Dear ENFP:  What were your favorite video games growing\n",
      "up and what are your now, current favorite video games?\n",
      ":cool:|||https://www.youtube.com/watch?v=QyPqT8umzmY|||It appears to\n",
      "be too late. :sad:|||There's someone out there for everyone.|||Wait...\n",
      "I thought confidence was a good thing.|||I just cherish the time of\n",
      "solitude b/c i revel within my inner world more whereas most other\n",
      "time i'd be workin... just enjoy the me time while you can. Don't\n",
      "worry, people will always be around to...|||Yo entp ladies... if\n",
      "you're into a complimentary personality,well, hey.|||... when your\n",
      "main social outlet is xbox live conversations and even then you\n",
      "verbally fatigue quickly.|||http://www.youtube.com/watch?v=gDhy7rdfm14\n",
      "I really dig the part from 1:46 to\n",
      "2:50|||http://www.youtube.com/watch?v=msqXffgh7b8|||Banned because\n",
      "this thread requires it of me.|||Get high in backyard, roast and eat\n",
      "marshmellows in backyard while conversing over something intellectual,\n",
      "followed by massages and kisses.|||http://www.youtube.com/watch?v=Mw7e\n",
      "oU3BMbE|||http://www.youtube.com/watch?v=4V2uYORhQOk|||http://www.yout\n",
      "ube.com/watch?v=SlVmgFQQ0TI|||Banned for too many b's in that\n",
      "sentence. How could you! Think of the B!|||Banned for watching movies\n",
      "in the corner with the dunces.|||Banned because Health class clearly\n",
      "taught you nothing about peer pressure.|||Banned for a whole host of\n",
      "reasons!|||http://www.youtube.com/watch?v=IRcrv41hgz4|||1) Two baby\n",
      "deer on left and right munching on a beetle in the middle.  2) Using\n",
      "their own blood, two cavemen diary today's latest happenings on their\n",
      "designated cave diary wall.  3) I see it as...|||a pokemon world  an\n",
      "infj society  everyone becomes an optimist|||49142|||http://www.youtub\n",
      "e.com/watch?v=ZRCEq_JFeFM|||http://discovermagazine.com/2012/jul-\n",
      "aug/20-things-you-didnt-know-about-deserts/desert.jpg|||http://oyster.\n",
      "ignimgs.com/mediawiki/apis.ign.com/pokemon-silver-\n",
      "version/d/dd/Ditto.gif|||http://www.serebii.net/potw-\n",
      "dp/Scizor.jpg|||Not all artists are artists because they draw. It's\n",
      "the idea that counts in forming something of your own... like a\n",
      "signature.|||Welcome to the robot ranks, person who downed my self-\n",
      "esteem cuz I'm not an avid signature artist like herself.\n",
      ":proud:|||Banned for taking all the room under my bed. Ya gotta learn\n",
      "to share with the\n",
      "roaches.|||http://www.youtube.com/watch?v=w8IgImn57aQ|||Banned for\n",
      "being too much of a thundering, grumbling kind of storm...\n",
      "yep.|||Ahh... old high school music I haven't heard in ages.\n",
      "http://www.youtube.com/watch?v=dcCRUPCdB1w|||I failed a public\n",
      "speaking class a few years ago and I've sort of learned what I could\n",
      "do better were I to be in that position again. A big part of my\n",
      "failure was just overloading myself with too...|||I like this person's\n",
      "mentality. He's a confirmed INTJ by the way.\n",
      "http://www.youtube.com/watch?v=hGKLI-GEc6M|||Move to the Denver area\n",
      "and start a new life for myself.'\n",
      "\n",
      "-----------------\n",
      "\n"
     ]
    }
   ],
   "source": [
    "import pandas as pd \n",
    "\n",
    "data = pd.read_csv('data\\APS_dev_data\\personalityforum\\mbti_1.csv')\n",
    "\n",
    "import textwrap\n",
    "\n",
    "for post in data['posts'].iloc[:20]:\n",
    "    print('\\n'.join(textwrap.wrap(post, width=70)))\n",
    "    print('\\n-----------------\\n')\n",
    "    break"
   ]
  },
  {
   "cell_type": "code",
   "execution_count": null,
   "metadata": {},
   "outputs": [
    {
     "name": "stdout",
     "output_type": "stream",
     "text": [
      "'http://www.youtube.com/watch?v=qsXHcwe3krw|||http://41.media.tumblr.c\n",
      "om/tumblr_lfouy03PMA1qa1rooo1_500.jpg|||enfp and intj moments\n",
      "https://www.youtube.com/watch?v=iz7lE1g4XM4  sportscenter not top ten\n",
      "plays  https://www.youtube.com/watch?v=uCdfze1etec  pranks|||What has\n",
      "been the most life-changing experience in your\n",
      "life?|||http://www.youtube.com/watch?v=vXZeYwwRDw8\n",
      "http://www.youtube.com/watch?v=u8ejam5DP3E  On repeat for most of\n",
      "today.|||May the PerC Experience immerse you.|||The last thing my INFJ\n",
      "friend posted on his facebook before committing suicide the next day.\n",
      "Rest in peace~   http://vimeo.com/22842206|||Hello ENFJ7. Sorry to\n",
      "hear of your distress. It's only natural for a relationship to not be\n",
      "perfection all the time in every moment of existence. Try to figure\n",
      "the hard times as times of growth, as...|||84389  84390\n",
      "http://wallpaperpassion.com/upload/23700/friendship-boy-and-girl-\n",
      "wallpaper.jpg  http://assets.dornob.com/wp-\n",
      "content/uploads/2010/04/round-home-design.jpg ...|||Welcome and\n",
      "stuff.|||http://playeressence.com/wp-content/uploads/2013/08/RED-red-\n",
      "the-pokemon-master-32560474-450-338.jpg  Game. Set. Match.|||Prozac,\n",
      "wellbrutin, at least thirty minutes of moving your legs (and I don't\n",
      "mean moving them while sitting in your same desk chair), weed in\n",
      "moderation (maybe try edibles as a healthier\n",
      "alternative...|||Basically come up with three items you've determined\n",
      "that each type (or whichever types you want to do) would more than\n",
      "likely use, given each types' cognitive functions and whatnot, when\n",
      "left by...|||All things in moderation.  Sims is indeed a video game,\n",
      "and a good one at that. Note: a good one at that is somewhat\n",
      "subjective in that I am not completely promoting the death of any\n",
      "given Sim...|||Dear ENFP:  What were your favorite video games growing\n",
      "up and what are your now, current favorite video games?\n",
      ":cool:|||https://www.youtube.com/watch?v=QyPqT8umzmY|||It appears to\n",
      "be too late. :sad:|||There's someone out there for everyone.|||Wait...\n",
      "I thought confidence was a good thing.|||I just cherish the time of\n",
      "solitude b/c i revel within my inner world more whereas most other\n",
      "time i'd be workin... just enjoy the me time while you can. Don't\n",
      "worry, people will always be around to...|||Yo entp ladies... if\n",
      "you're into a complimentary personality,well, hey.|||... when your\n",
      "main social outlet is xbox live conversations and even then you\n",
      "verbally fatigue quickly.|||http://www.youtube.com/watch?v=gDhy7rdfm14\n",
      "I really dig the part from 1:46 to\n",
      "2:50|||http://www.youtube.com/watch?v=msqXffgh7b8|||Banned because\n",
      "this thread requires it of me.|||Get high in backyard, roast and eat\n",
      "marshmellows in backyard while conversing over something intellectual,\n",
      "followed by massages and kisses.|||http://www.youtube.com/watch?v=Mw7e\n",
      "oU3BMbE|||http://www.youtube.com/watch?v=4V2uYORhQOk|||http://www.yout\n",
      "ube.com/watch?v=SlVmgFQQ0TI|||Banned for too many b's in that\n",
      "sentence. How could you! Think of the B!|||Banned for watching movies\n",
      "in the corner with the dunces.|||Banned because Health class clearly\n",
      "taught you nothing about peer pressure.|||Banned for a whole host of\n",
      "reasons!|||http://www.youtube.com/watch?v=IRcrv41hgz4|||1) Two baby\n",
      "deer on left and right munching on a beetle in the middle.  2) Using\n",
      "their own blood, two cavemen diary today's latest happenings on their\n",
      "designated cave diary wall.  3) I see it as...|||a pokemon world  an\n",
      "infj society  everyone becomes an optimist|||49142|||http://www.youtub\n",
      "e.com/watch?v=ZRCEq_JFeFM|||http://discovermagazine.com/2012/jul-\n",
      "aug/20-things-you-didnt-know-about-deserts/desert.jpg|||http://oyster.\n",
      "ignimgs.com/mediawiki/apis.ign.com/pokemon-silver-\n",
      "version/d/dd/Ditto.gif|||http://www.serebii.net/potw-\n",
      "dp/Scizor.jpg|||Not all artists are artists because they draw. It's\n",
      "the idea that counts in forming something of your own... like a\n",
      "signature.|||Welcome to the robot ranks, person who downed my self-\n",
      "esteem cuz I'm not an avid signature artist like herself.\n",
      ":proud:|||Banned for taking all the room under my bed. Ya gotta learn\n",
      "to share with the\n",
      "roaches.|||http://www.youtube.com/watch?v=w8IgImn57aQ|||Banned for\n",
      "being too much of a thundering, grumbling kind of storm...\n",
      "yep.|||Ahh... old high school music I haven't heard in ages.\n",
      "http://www.youtube.com/watch?v=dcCRUPCdB1w|||I failed a public\n",
      "speaking class a few years ago and I've sort of learned what I could\n",
      "do better were I to be in that position again. A big part of my\n",
      "failure was just overloading myself with too...|||I like this person's\n",
      "mentality. He's a confirmed INTJ by the way.\n",
      "http://www.youtube.com/watch?v=hGKLI-GEc6M|||Move to the Denver area\n",
      "and start a new life for myself.'\n",
      "\n",
      "-----------------\n",
      "\n"
     ]
    }
   ],
   "source": [
    "import pandas as pd \n",
    "\n",
    "data = pd.read_csv('data\\APS_dev_data\\personalityforum\\mbti_1.csv')\n",
    "\n",
    "import textwrap\n",
    "\n",
    "for post in data['posts'].iloc[:20]:\n",
    "    print('\\n'.join(textwrap.wrap(post, width=70)))\n",
    "    print('\\n-----------------\\n')\n",
    "    break"
   ]
  },
  {
   "cell_type": "code",
   "execution_count": null,
   "metadata": {},
   "outputs": [],
   "source": []
  },
  {
   "cell_type": "code",
   "execution_count": 30,
   "metadata": {},
   "outputs": [
    {
     "data": {
      "text/plain": [
       "['The capital of the United Kingdom is London.',\n",
       " 'The capital of Mexico is Mexico City.',\n",
       " 'The capital of Italy is Rome.',\n",
       " 'The capital of Spain is Madrid.',\n",
       " 'The capital of Canada is Ottawa.',\n",
       " 'The capital of Brazil is Brasília.',\n",
       " 'The capital of Germany is Berlin.',\n",
       " 'The capital of the United States is Washington, D.C.',\n",
       " 'The capital of Argentina is Buenos Aires.',\n",
       " 'The capital of France is Paris.']"
      ]
     },
     "execution_count": 30,
     "metadata": {},
     "output_type": "execute_result"
    }
   ],
   "source": [
    "response_messages"
   ]
  },
  {
   "cell_type": "code",
   "execution_count": null,
   "metadata": {},
   "outputs": [],
   "source": []
  },
  {
   "cell_type": "code",
   "execution_count": 28,
   "metadata": {},
   "outputs": [
    {
     "data": {
      "text/plain": [
       "(['[{\"model\": \"gpt-4-0613\", \"messages\": [{\"role\": \"user\", \"content\": \"Hi, what is the capital of Canada?\"}], \"temperature\": 0}, {\"id\": \"chatcmpl-84lapo27hpAgY3Ao1KFDg4iFlrXln\", \"object\": \"chat.completion\", \"created\": 1696146951, \"model\": \"gpt-4-0613\", \"choices\": [{\"index\": 0, \"message\": {\"role\": \"assistant\", \"content\": \"The capital of Canada is Ottawa.\"}, \"finish_reason\": \"stop\"}], \"usage\": {\"prompt_tokens\": 16, \"completion_tokens\": 7, \"total_tokens\": 23}}]\\n',\n",
       "  '[{\"model\": \"gpt-4-0613\", \"messages\": [{\"role\": \"user\", \"content\": \"Hi, what is the capital of Mexico?\"}], \"temperature\": 0}, {\"id\": \"chatcmpl-84laprFIzRJKgWjoExGjShrCA5PGo\", \"object\": \"chat.completion\", \"created\": 1696146951, \"model\": \"gpt-4-0613\", \"choices\": [{\"index\": 0, \"message\": {\"role\": \"assistant\", \"content\": \"The capital of Mexico is Mexico City.\"}, \"finish_reason\": \"stop\"}], \"usage\": {\"prompt_tokens\": 16, \"completion_tokens\": 8, \"total_tokens\": 24}}]\\n',\n",
       "  '[{\"model\": \"gpt-4-0613\", \"messages\": [{\"role\": \"user\", \"content\": \"Hi, what is the capital of Brazil?\"}], \"temperature\": 0}, {\"id\": \"chatcmpl-84lap8L8rLSOYjID7Okq1fObMi8e3\", \"object\": \"chat.completion\", \"created\": 1696146951, \"model\": \"gpt-4-0613\", \"choices\": [{\"index\": 0, \"message\": {\"role\": \"assistant\", \"content\": \"The capital of Brazil is Bras\\\\u00edlia.\"}, \"finish_reason\": \"stop\"}], \"usage\": {\"prompt_tokens\": 16, \"completion_tokens\": 8, \"total_tokens\": 24}}]\\n',\n",
       "  '[{\"model\": \"gpt-4-0613\", \"messages\": [{\"role\": \"user\", \"content\": \"Hi, what is the capital of Germany?\"}], \"temperature\": 0}, {\"id\": \"chatcmpl-84lapXczLUoYi8WxY3p9mD11iJIhZ\", \"object\": \"chat.completion\", \"created\": 1696146951, \"model\": \"gpt-4-0613\", \"choices\": [{\"index\": 0, \"message\": {\"role\": \"assistant\", \"content\": \"The capital of Germany is Berlin.\"}, \"finish_reason\": \"stop\"}], \"usage\": {\"prompt_tokens\": 16, \"completion_tokens\": 7, \"total_tokens\": 23}}]\\n',\n",
       "  '[{\"model\": \"gpt-4-0613\", \"messages\": [{\"role\": \"user\", \"content\": \"Hi, what is the capital of Spain?\"}], \"temperature\": 0}, {\"id\": \"chatcmpl-84lapNzyApV9sZrIdtwlV2m8j6szj\", \"object\": \"chat.completion\", \"created\": 1696146951, \"model\": \"gpt-4-0613\", \"choices\": [{\"index\": 0, \"message\": {\"role\": \"assistant\", \"content\": \"The capital of Spain is Madrid.\"}, \"finish_reason\": \"stop\"}], \"usage\": {\"prompt_tokens\": 16, \"completion_tokens\": 7, \"total_tokens\": 23}}]\\n',\n",
       "  '[{\"model\": \"gpt-4-0613\", \"messages\": [{\"role\": \"user\", \"content\": \"Hi, what is the capital of Argentina?\"}], \"temperature\": 0}, {\"id\": \"chatcmpl-84lapPaVTztcsGisTDTYQ2kem7alk\", \"object\": \"chat.completion\", \"created\": 1696146951, \"model\": \"gpt-4-0613\", \"choices\": [{\"index\": 0, \"message\": {\"role\": \"assistant\", \"content\": \"The capital of Argentina is Buenos Aires.\"}, \"finish_reason\": \"stop\"}], \"usage\": {\"prompt_tokens\": 16, \"completion_tokens\": 8, \"total_tokens\": 24}}]\\n',\n",
       "  '[{\"model\": \"gpt-4-0613\", \"messages\": [{\"role\": \"user\", \"content\": \"Hi, what is the capital of France?\"}], \"temperature\": 0}, {\"id\": \"chatcmpl-84lapCH0vLG9WTnESiZsWStMYMoxv\", \"object\": \"chat.completion\", \"created\": 1696146951, \"model\": \"gpt-4-0613\", \"choices\": [{\"index\": 0, \"message\": {\"role\": \"assistant\", \"content\": \"The capital of France is Paris.\"}, \"finish_reason\": \"stop\"}], \"usage\": {\"prompt_tokens\": 16, \"completion_tokens\": 7, \"total_tokens\": 23}}]\\n',\n",
       "  '[{\"model\": \"gpt-4-0613\", \"messages\": [{\"role\": \"user\", \"content\": \"Hi, what is the capital of United Kingdom?\"}], \"temperature\": 0}, {\"id\": \"chatcmpl-84lapWhaJBRwk7iQyEqZDbZGyeMVK\", \"object\": \"chat.completion\", \"created\": 1696146951, \"model\": \"gpt-4-0613\", \"choices\": [{\"index\": 0, \"message\": {\"role\": \"assistant\", \"content\": \"The capital of the United Kingdom is London.\"}, \"finish_reason\": \"stop\"}], \"usage\": {\"prompt_tokens\": 17, \"completion_tokens\": 9, \"total_tokens\": 26}}]\\n',\n",
       "  '[{\"model\": \"gpt-4-0613\", \"messages\": [{\"role\": \"user\", \"content\": \"Hi, what is the capital of United States?\"}], \"temperature\": 0}, {\"id\": \"chatcmpl-84lapyxlas6yRvJy7q64TWV6WvM2H\", \"object\": \"chat.completion\", \"created\": 1696146951, \"model\": \"gpt-4-0613\", \"choices\": [{\"index\": 0, \"message\": {\"role\": \"assistant\", \"content\": \"The capital of the United States is Washington, D.C.\"}, \"finish_reason\": \"stop\"}], \"usage\": {\"prompt_tokens\": 17, \"completion_tokens\": 12, \"total_tokens\": 29}}]\\n',\n",
       "  '[{\"model\": \"gpt-4-0613\", \"messages\": [{\"role\": \"user\", \"content\": \"Hi, what is the capital of Italy?\"}], \"temperature\": 0}, {\"id\": \"chatcmpl-84lapvZLrdt0oSDkDmt8ONYzLqlnb\", \"object\": \"chat.completion\", \"created\": 1696146951, \"model\": \"gpt-4-0613\", \"choices\": [{\"index\": 0, \"message\": {\"role\": \"assistant\", \"content\": \"The capital of Italy is Rome.\"}, \"finish_reason\": \"stop\"}], \"usage\": {\"prompt_tokens\": 16, \"completion_tokens\": 7, \"total_tokens\": 23}}]\\n'],\n",
       " ['The capital of Canada is Ottawa.',\n",
       "  'The capital of Mexico is Mexico City.',\n",
       "  'The capital of Brazil is Brasília.',\n",
       "  'The capital of Germany is Berlin.',\n",
       "  'The capital of Spain is Madrid.',\n",
       "  'The capital of Argentina is Buenos Aires.',\n",
       "  'The capital of France is Paris.',\n",
       "  'The capital of the United Kingdom is London.',\n",
       "  'The capital of the United States is Washington, D.C.',\n",
       "  'The capital of Italy is Rome.'])"
      ]
     },
     "execution_count": 28,
     "metadata": {},
     "output_type": "execute_result"
    }
   ],
   "source": [
    "responses"
   ]
  },
  {
   "cell_type": "code",
   "execution_count": null,
   "metadata": {},
   "outputs": [],
   "source": []
  },
  {
   "cell_type": "code",
   "execution_count": 26,
   "metadata": {},
   "outputs": [
    {
     "ename": "NameError",
     "evalue": "name 'responses' is not defined",
     "output_type": "error",
     "traceback": [
      "\u001b[1;31m---------------------------------------------------------------------------\u001b[0m",
      "\u001b[1;31mNameError\u001b[0m                                 Traceback (most recent call last)",
      "Cell \u001b[1;32mIn[26], line 1\u001b[0m\n\u001b[1;32m----> 1\u001b[0m responses\n",
      "\u001b[1;31mNameError\u001b[0m: name 'responses' is not defined"
     ]
    }
   ],
   "source": [
    "responses"
   ]
  },
  {
   "cell_type": "code",
   "execution_count": null,
   "metadata": {},
   "outputs": [],
   "source": []
  },
  {
   "cell_type": "code",
   "execution_count": null,
   "metadata": {},
   "outputs": [],
   "source": []
  },
  {
   "cell_type": "code",
   "execution_count": 23,
   "metadata": {},
   "outputs": [
    {
     "data": {
      "text/plain": [
       "40"
      ]
     },
     "execution_count": 23,
     "metadata": {},
     "output_type": "execute_result"
    }
   ],
   "source": [
    "len(out)"
   ]
  },
  {
   "cell_type": "code",
   "execution_count": null,
   "metadata": {},
   "outputs": [],
   "source": []
  },
  {
   "cell_type": "code",
   "execution_count": 22,
   "metadata": {},
   "outputs": [
    {
     "data": {
      "text/plain": [
       "['The capital of France is Paris.',\n",
       " 'The capital of Argentina is Buenos Aires.',\n",
       " 'The capital of Canada is Ottawa.',\n",
       " 'The capital of Germany is Berlin.',\n",
       " 'The capital of Spain is Madrid.',\n",
       " 'The capital of Italy is Rome.',\n",
       " 'The capital of the United Kingdom is London.',\n",
       " 'The capital of Mexico is Mexico City.',\n",
       " 'The capital of Brazil is Brasília.',\n",
       " 'The capital of the United States is Washington, D.C.',\n",
       " 'The capital of Germany is Berlin.',\n",
       " 'The capital of Mexico is Mexico City.',\n",
       " 'The capital of Italy is Rome.',\n",
       " 'The capital of the United Kingdom is London.',\n",
       " 'The capital of France is Paris.',\n",
       " 'The capital of Canada is Ottawa.',\n",
       " 'The capital of Brazil is Brasília.',\n",
       " 'The capital of Argentina is Buenos Aires.',\n",
       " 'The capital of Spain is Madrid.',\n",
       " 'The capital of the United States is Washington, D.C.',\n",
       " 'The capital of France is Paris.',\n",
       " 'The capital of Argentina is Buenos Aires.',\n",
       " 'The capital of the United Kingdom is London.',\n",
       " 'The capital of Italy is Rome.',\n",
       " 'The capital of Brazil is Brasília.',\n",
       " 'The capital of Germany is Berlin.',\n",
       " 'The capital of Canada is Ottawa.',\n",
       " 'The capital of Spain is Madrid.',\n",
       " 'The capital of the United States is Washington, D.C.',\n",
       " 'The capital of Mexico is Mexico City.',\n",
       " 'The capital of Spain is Madrid.',\n",
       " 'The capital of Italy is Rome.',\n",
       " 'The capital of France is Paris.',\n",
       " 'The capital of Mexico is Mexico City.',\n",
       " 'The capital of Brazil is Brasília.',\n",
       " 'The capital of Canada is Ottawa.',\n",
       " 'The capital of Germany is Berlin.',\n",
       " 'The capital of Argentina is Buenos Aires.',\n",
       " 'The capital of the United States is Washington, D.C.',\n",
       " 'The capital of the United Kingdom is London.']"
      ]
     },
     "execution_count": 22,
     "metadata": {},
     "output_type": "execute_result"
    }
   ],
   "source": [
    "messages = out[0][1]['choices'][0]['message']['content']\n",
    "[response[1]['choices'][0]['message']['content'] for response in out]"
   ]
  },
  {
   "cell_type": "code",
   "execution_count": null,
   "metadata": {},
   "outputs": [],
   "source": []
  },
  {
   "cell_type": "code",
   "execution_count": null,
   "metadata": {},
   "outputs": [],
   "source": []
  },
  {
   "cell_type": "code",
   "execution_count": null,
   "metadata": {},
   "outputs": [],
   "source": []
  },
  {
   "cell_type": "code",
   "execution_count": null,
   "metadata": {},
   "outputs": [],
   "source": []
  },
  {
   "cell_type": "code",
   "execution_count": null,
   "metadata": {},
   "outputs": [],
   "source": []
  },
  {
   "cell_type": "code",
   "execution_count": null,
   "metadata": {},
   "outputs": [],
   "source": []
  },
  {
   "cell_type": "code",
   "execution_count": null,
   "metadata": {},
   "outputs": [],
   "source": []
  },
  {
   "cell_type": "code",
   "execution_count": null,
   "metadata": {},
   "outputs": [],
   "source": []
  },
  {
   "cell_type": "code",
   "execution_count": null,
   "metadata": {},
   "outputs": [],
   "source": []
  },
  {
   "cell_type": "code",
   "execution_count": 12,
   "metadata": {},
   "outputs": [
    {
     "data": {
      "text/plain": [
       "[{'model': 'gpt-4-0613',\n",
       "  'messages': [{'role': 'user',\n",
       "    'content': 'Hi, what is the capital of France?'}],\n",
       "  'temperature': 0},\n",
       " {'model': 'gpt-4-0613',\n",
       "  'messages': [{'role': 'user',\n",
       "    'content': 'Hi, what is the capital of Argentina?'}],\n",
       "  'temperature': 0},\n",
       " {'model': 'gpt-4-0613',\n",
       "  'messages': [{'role': 'user',\n",
       "    'content': 'Hi, what is the capital of Canada?'}],\n",
       "  'temperature': 0},\n",
       " {'model': 'gpt-4-0613',\n",
       "  'messages': [{'role': 'user',\n",
       "    'content': 'Hi, what is the capital of Germany?'}],\n",
       "  'temperature': 0},\n",
       " {'model': 'gpt-4-0613',\n",
       "  'messages': [{'role': 'user',\n",
       "    'content': 'Hi, what is the capital of Spain?'}],\n",
       "  'temperature': 0},\n",
       " {'model': 'gpt-4-0613',\n",
       "  'messages': [{'role': 'user',\n",
       "    'content': 'Hi, what is the capital of Italy?'}],\n",
       "  'temperature': 0},\n",
       " {'model': 'gpt-4-0613',\n",
       "  'messages': [{'role': 'user',\n",
       "    'content': 'Hi, what is the capital of United Kingdom?'}],\n",
       "  'temperature': 0},\n",
       " {'model': 'gpt-4-0613',\n",
       "  'messages': [{'role': 'user',\n",
       "    'content': 'Hi, what is the capital of Mexico?'}],\n",
       "  'temperature': 0},\n",
       " {'model': 'gpt-4-0613',\n",
       "  'messages': [{'role': 'user',\n",
       "    'content': 'Hi, what is the capital of Brazil?'}],\n",
       "  'temperature': 0},\n",
       " {'model': 'gpt-4-0613',\n",
       "  'messages': [{'role': 'user',\n",
       "    'content': 'Hi, what is the capital of United States?'}],\n",
       "  'temperature': 0},\n",
       " {'model': 'gpt-4-0613',\n",
       "  'messages': [{'role': 'user',\n",
       "    'content': 'Hi, what is the capital of Germany?'}],\n",
       "  'temperature': 0},\n",
       " {'model': 'gpt-4-0613',\n",
       "  'messages': [{'role': 'user',\n",
       "    'content': 'Hi, what is the capital of Mexico?'}],\n",
       "  'temperature': 0},\n",
       " {'model': 'gpt-4-0613',\n",
       "  'messages': [{'role': 'user',\n",
       "    'content': 'Hi, what is the capital of Italy?'}],\n",
       "  'temperature': 0},\n",
       " {'model': 'gpt-4-0613',\n",
       "  'messages': [{'role': 'user',\n",
       "    'content': 'Hi, what is the capital of United Kingdom?'}],\n",
       "  'temperature': 0},\n",
       " {'model': 'gpt-4-0613',\n",
       "  'messages': [{'role': 'user',\n",
       "    'content': 'Hi, what is the capital of France?'}],\n",
       "  'temperature': 0},\n",
       " {'model': 'gpt-4-0613',\n",
       "  'messages': [{'role': 'user',\n",
       "    'content': 'Hi, what is the capital of Canada?'}],\n",
       "  'temperature': 0},\n",
       " {'model': 'gpt-4-0613',\n",
       "  'messages': [{'role': 'user',\n",
       "    'content': 'Hi, what is the capital of Brazil?'}],\n",
       "  'temperature': 0},\n",
       " {'model': 'gpt-4-0613',\n",
       "  'messages': [{'role': 'user',\n",
       "    'content': 'Hi, what is the capital of Argentina?'}],\n",
       "  'temperature': 0},\n",
       " {'model': 'gpt-4-0613',\n",
       "  'messages': [{'role': 'user',\n",
       "    'content': 'Hi, what is the capital of Spain?'}],\n",
       "  'temperature': 0},\n",
       " {'model': 'gpt-4-0613',\n",
       "  'messages': [{'role': 'user',\n",
       "    'content': 'Hi, what is the capital of United States?'}],\n",
       "  'temperature': 0},\n",
       " {'model': 'gpt-4-0613',\n",
       "  'messages': [{'role': 'user',\n",
       "    'content': 'Hi, what is the capital of France?'}],\n",
       "  'temperature': 0},\n",
       " {'model': 'gpt-4-0613',\n",
       "  'messages': [{'role': 'user',\n",
       "    'content': 'Hi, what is the capital of Argentina?'}],\n",
       "  'temperature': 0},\n",
       " {'model': 'gpt-4-0613',\n",
       "  'messages': [{'role': 'user',\n",
       "    'content': 'Hi, what is the capital of United Kingdom?'}],\n",
       "  'temperature': 0},\n",
       " {'model': 'gpt-4-0613',\n",
       "  'messages': [{'role': 'user',\n",
       "    'content': 'Hi, what is the capital of Italy?'}],\n",
       "  'temperature': 0},\n",
       " {'model': 'gpt-4-0613',\n",
       "  'messages': [{'role': 'user',\n",
       "    'content': 'Hi, what is the capital of Brazil?'}],\n",
       "  'temperature': 0},\n",
       " {'model': 'gpt-4-0613',\n",
       "  'messages': [{'role': 'user',\n",
       "    'content': 'Hi, what is the capital of Germany?'}],\n",
       "  'temperature': 0},\n",
       " {'model': 'gpt-4-0613',\n",
       "  'messages': [{'role': 'user',\n",
       "    'content': 'Hi, what is the capital of Canada?'}],\n",
       "  'temperature': 0},\n",
       " {'model': 'gpt-4-0613',\n",
       "  'messages': [{'role': 'user',\n",
       "    'content': 'Hi, what is the capital of Spain?'}],\n",
       "  'temperature': 0},\n",
       " {'model': 'gpt-4-0613',\n",
       "  'messages': [{'role': 'user',\n",
       "    'content': 'Hi, what is the capital of United States?'}],\n",
       "  'temperature': 0},\n",
       " {'model': 'gpt-4-0613',\n",
       "  'messages': [{'role': 'user',\n",
       "    'content': 'Hi, what is the capital of Mexico?'}],\n",
       "  'temperature': 0}]"
      ]
     },
     "execution_count": 12,
     "metadata": {},
     "output_type": "execute_result"
    }
   ],
   "source": [
    "out"
   ]
  },
  {
   "cell_type": "code",
   "execution_count": 13,
   "metadata": {},
   "outputs": [
    {
     "data": {
      "text/plain": [
       "{'model': 'gpt-4-0613',\n",
       " 'messages': [{'role': 'user',\n",
       "   'content': 'Hi, what is the capital of France?'}],\n",
       " 'temperature': 0}"
      ]
     },
     "execution_count": 13,
     "metadata": {},
     "output_type": "execute_result"
    }
   ],
   "source": [
    "out[0]"
   ]
  },
  {
   "cell_type": "code",
   "execution_count": null,
   "metadata": {},
   "outputs": [],
   "source": []
  },
  {
   "cell_type": "code",
   "execution_count": null,
   "metadata": {},
   "outputs": [],
   "source": []
  },
  {
   "cell_type": "code",
   "execution_count": null,
   "metadata": {},
   "outputs": [],
   "source": []
  },
  {
   "cell_type": "code",
   "execution_count": null,
   "metadata": {},
   "outputs": [],
   "source": []
  },
  {
   "cell_type": "code",
   "execution_count": null,
   "metadata": {},
   "outputs": [],
   "source": []
  },
  {
   "cell_type": "code",
   "execution_count": null,
   "metadata": {},
   "outputs": [],
   "source": []
  },
  {
   "cell_type": "code",
   "execution_count": null,
   "metadata": {},
   "outputs": [],
   "source": []
  },
  {
   "cell_type": "code",
   "execution_count": 43,
   "metadata": {},
   "outputs": [
    {
     "data": {
      "text/plain": [
       "b''"
      ]
     },
     "execution_count": 43,
     "metadata": {},
     "output_type": "execute_result"
    }
   ],
   "source": [
    "output"
   ]
  },
  {
   "cell_type": "code",
   "execution_count": 41,
   "metadata": {},
   "outputs": [
    {
     "name": "stdout",
     "output_type": "stream",
     "text": [
      "The capital of France is Paris.\n",
      "The capital of France is Paris.\n",
      "The capital of France is Paris.\n",
      "The capital of France is Paris.\n",
      "The capital of France is Paris.\n",
      "The capital of France is Paris.\n",
      "The capital of France is Paris.\n",
      "The capital of France is Paris.\n",
      "The capital of France is Paris.\n",
      "The capital of France is Paris.\n"
     ]
    }
   ],
   "source": [
    "# Prepare headers\n",
    "headers = {\n",
    "    \"Content-Type\": \"application/json\",\n",
    "    \"Authorization\": f\"Bearer {os.getenv('OPENAI_API_KEY')}\",\n",
    "}\n",
    "\n",
    "# Prepare data\n",
    "data = {\n",
    "    \"model\": \"gpt-4-0613\",\n",
    "    \"messages\": [{\n",
    "        \"role\": \"user\",\n",
    "        \"content\": \"Hi, what is the capital of France?\"\n",
    "    }],\n",
    "    \"temperature\": 0,\n",
    "}\n",
    "\n",
    "# do it 10 times\n",
    "for i in range(10):\n",
    "    # Send a POST request\n",
    "    response = requests.post(\n",
    "        url=\"https://api.openai.com/v1/chat/completions\",\n",
    "        headers=headers,\n",
    "        data=json.dumps(data),\n",
    "    )\n",
    "\n",
    "    # Check the response\n",
    "    if response.status_code == 200:\n",
    "        r = response.json()\n",
    "        print(r['choices'][0]['message']['content'])\n",
    "        \n",
    "    else:\n",
    "        print(f\"Failed to get response, status code: {response.status_code}\")\n"
   ]
  },
  {
   "cell_type": "code",
   "execution_count": 40,
   "metadata": {},
   "outputs": [
    {
     "data": {
      "text/plain": [
       "'The capital of France is Paris.'"
      ]
     },
     "execution_count": 40,
     "metadata": {},
     "output_type": "execute_result"
    }
   ],
   "source": [
    "# response = response.json()\n",
    "response['choices'][0]['message']['content']\t"
   ]
  }
 ],
 "metadata": {
  "kernelspec": {
   "display_name": "venv",
   "language": "python",
   "name": "python3"
  },
  "language_info": {
   "codemirror_mode": {
    "name": "ipython",
    "version": 3
   },
   "file_extension": ".py",
   "mimetype": "text/x-python",
   "name": "python",
   "nbconvert_exporter": "python",
   "pygments_lexer": "ipython3",
   "version": "3.11.3"
  },
  "orig_nbformat": 4
 },
 "nbformat": 4,
 "nbformat_minor": 2
}
