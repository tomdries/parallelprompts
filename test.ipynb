{
 "cells": [
  {
   "cell_type": "code",
   "execution_count": 6,
   "metadata": {},
   "outputs": [
    {
     "name": "stdout",
     "output_type": "stream",
     "text": [
      "Collecting python-dotenv\n",
      "  Using cached python_dotenv-1.0.0-py3-none-any.whl (19 kB)\n",
      "Installing collected packages: python-dotenv\n",
      "Successfully installed python-dotenv-1.0.0\n"
     ]
    },
    {
     "name": "stderr",
     "output_type": "stream",
     "text": [
      "\n",
      "[notice] A new release of pip available: 22.3.1 -> 23.3.2\n",
      "[notice] To update, run: python.exe -m pip install --upgrade pip\n"
     ]
    }
   ],
   "source": [
    "!pip install python-dotenv"
   ]
  },
  {
   "cell_type": "code",
   "execution_count": 8,
   "metadata": {},
   "outputs": [
    {
     "ename": "RuntimeError",
     "evalue": "asyncio.run() cannot be called from a running event loop",
     "output_type": "error",
     "traceback": [
      "\u001b[1;31m---------------------------------------------------------------------------\u001b[0m",
      "\u001b[1;31mRuntimeError\u001b[0m                              Traceback (most recent call last)",
      "Cell \u001b[1;32mIn[8], line 20\u001b[0m\n\u001b[0;32m     17\u001b[0m save_filepath \u001b[39m=\u001b[39m requests_filepath\u001b[39m.\u001b[39mreplace(\u001b[39m\"\u001b[39m\u001b[39m.jsonl\u001b[39m\u001b[39m\"\u001b[39m, \u001b[39m\"\u001b[39m\u001b[39m_results.jsonl\u001b[39m\u001b[39m\"\u001b[39m)\n\u001b[0;32m     19\u001b[0m \u001b[39m# run script\u001b[39;00m\n\u001b[1;32m---> 20\u001b[0m asyncio\u001b[39m.\u001b[39;49mrun(\n\u001b[0;32m     21\u001b[0m     process_api_requests_from_file(\n\u001b[0;32m     22\u001b[0m         requests_filepath\u001b[39m=\u001b[39;49mrequests_filepath,\n\u001b[0;32m     23\u001b[0m         save_filepath\u001b[39m=\u001b[39;49msave_filepath,\n\u001b[0;32m     24\u001b[0m         request_url\u001b[39m=\u001b[39;49mrequest_url,\n\u001b[0;32m     25\u001b[0m         api_key\u001b[39m=\u001b[39;49mapi_key,\n\u001b[0;32m     26\u001b[0m         max_requests_per_minute\u001b[39m=\u001b[39;49m\u001b[39mfloat\u001b[39;49m(max_requests_per_minute),\n\u001b[0;32m     27\u001b[0m         max_tokens_per_minute\u001b[39m=\u001b[39;49m\u001b[39mfloat\u001b[39;49m(max_tokens_per_minute),\n\u001b[0;32m     28\u001b[0m         token_encoding_name\u001b[39m=\u001b[39;49mtoken_encoding_name,\n\u001b[0;32m     29\u001b[0m         max_attempts\u001b[39m=\u001b[39;49m\u001b[39mint\u001b[39;49m(max_attempts),\n\u001b[0;32m     30\u001b[0m         logging_level\u001b[39m=\u001b[39;49m\u001b[39mint\u001b[39;49m(logging_level),\n\u001b[0;32m     31\u001b[0m     )\n\u001b[0;32m     32\u001b[0m )\n",
      "File \u001b[1;32mC:\\Python311\\Lib\\asyncio\\runners.py:186\u001b[0m, in \u001b[0;36mrun\u001b[1;34m(main, debug)\u001b[0m\n\u001b[0;32m    161\u001b[0m \u001b[39m\u001b[39m\u001b[39m\"\"\"Execute the coroutine and return the result.\u001b[39;00m\n\u001b[0;32m    162\u001b[0m \n\u001b[0;32m    163\u001b[0m \u001b[39mThis function runs the passed coroutine, taking care of\u001b[39;00m\n\u001b[1;32m   (...)\u001b[0m\n\u001b[0;32m    182\u001b[0m \u001b[39m    asyncio.run(main())\u001b[39;00m\n\u001b[0;32m    183\u001b[0m \u001b[39m\"\"\"\u001b[39;00m\n\u001b[0;32m    184\u001b[0m \u001b[39mif\u001b[39;00m events\u001b[39m.\u001b[39m_get_running_loop() \u001b[39mis\u001b[39;00m \u001b[39mnot\u001b[39;00m \u001b[39mNone\u001b[39;00m:\n\u001b[0;32m    185\u001b[0m     \u001b[39m# fail fast with short traceback\u001b[39;00m\n\u001b[1;32m--> 186\u001b[0m     \u001b[39mraise\u001b[39;00m \u001b[39mRuntimeError\u001b[39;00m(\n\u001b[0;32m    187\u001b[0m         \u001b[39m\"\u001b[39m\u001b[39masyncio.run() cannot be called from a running event loop\u001b[39m\u001b[39m\"\u001b[39m)\n\u001b[0;32m    189\u001b[0m \u001b[39mwith\u001b[39;00m Runner(debug\u001b[39m=\u001b[39mdebug) \u001b[39mas\u001b[39;00m runner:\n\u001b[0;32m    190\u001b[0m     \u001b[39mreturn\u001b[39;00m runner\u001b[39m.\u001b[39mrun(main)\n",
      "\u001b[1;31mRuntimeError\u001b[0m: asyncio.run() cannot be called from a running event loop"
     ]
    }
   ],
   "source": [
    "from api_request_parallel_processor import process_api_requests_from_file\n",
    "import asyncio\n",
    "import os \n",
    "# load dotenv\n",
    "from dotenv import load_dotenv\n",
    "import logging\n",
    "load_dotenv()\n",
    "\n",
    "requests_filepath = 'api_request_parallel_processor'\n",
    "request_url = \"https://api.openai.com/v1/embeddings\"\n",
    "api_key=os.getenv(\"OPENAI_API_KEY\")\n",
    "max_requests_per_minute=3_000 * 0.5\n",
    "max_tokens_per_minute = 250_000 * 0.5\n",
    "token_encoding_name = \"cl100k_base\"\n",
    "max_attempts = 5\n",
    "logging_level = logging.INFO\n",
    "save_filepath = requests_filepath.replace(\".jsonl\", \"_results.jsonl\")\n",
    "\n",
    "# run script\n",
    "asyncio.run(\n",
    "    process_api_requests_from_file(\n",
    "        requests_filepath=requests_filepath,\n",
    "        save_filepath=save_filepath,\n",
    "        request_url=request_url,\n",
    "        api_key=api_key,\n",
    "        max_requests_per_minute=float(max_requests_per_minute),\n",
    "        max_tokens_per_minute=float(max_tokens_per_minute),\n",
    "        token_encoding_name=token_encoding_name,\n",
    "        max_attempts=int(max_attempts),\n",
    "        logging_level=int(logging_level),\n",
    "    )\n",
    ")"
   ]
  }
 ],
 "metadata": {
  "kernelspec": {
   "display_name": "venv",
   "language": "python",
   "name": "python3"
  },
  "language_info": {
   "codemirror_mode": {
    "name": "ipython",
    "version": 3
   },
   "file_extension": ".py",
   "mimetype": "text/x-python",
   "name": "python",
   "nbconvert_exporter": "python",
   "pygments_lexer": "ipython3",
   "version": "3.11.3"
  },
  "orig_nbformat": 4
 },
 "nbformat": 4,
 "nbformat_minor": 2
}
